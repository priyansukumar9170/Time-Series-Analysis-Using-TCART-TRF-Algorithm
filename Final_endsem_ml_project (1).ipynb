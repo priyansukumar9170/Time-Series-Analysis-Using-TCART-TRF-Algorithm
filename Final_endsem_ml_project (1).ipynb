{
  "nbformat": 4,
  "nbformat_minor": 0,
  "metadata": {
    "colab": {
      "provenance": []
    },
    "kernelspec": {
      "name": "python3",
      "display_name": "Python 3"
    },
    "language_info": {
      "name": "python"
    }
  },
  "cells": [
    {
      "cell_type": "code",
      "source": [
        "import pandas as pd\n",
        "from sklearn.tree import DecisionTreeClassifier\n",
        "from sklearn.model_selection import train_test_split\n",
        "from sklearn.metrics import accuracy_score\n",
        "import pandas as pd\n",
        "import numpy as np\n",
        "from datetime import datetime, timedelta"
      ],
      "metadata": {
        "id": "pZ82tGjZfs7h"
      },
      "execution_count": null,
      "outputs": []
    },
    {
      "cell_type": "code",
      "source": [
        "stable = True # Set to True for latest pip version or False for main branch in GitHub\n",
        "!pip install {\"tsai -U\" if stable else \"git+https://github.com/timeseriesAI/tsai.git\"} >> /dev/null"
      ],
      "metadata": {
        "id": "EctF-pLxoXvo"
      },
      "execution_count": null,
      "outputs": []
    },
    {
      "cell_type": "markdown",
      "source": [
        "*For End-term the team should do the following: -- try different thresholds -- try relationships -- universal decision -- combining atemporal decision with temporal decision -- two new timeseries classification datasets*"
      ],
      "metadata": {
        "id": "dbphmEKbixrd"
      }
    },
    {
      "cell_type": "code",
      "source": [
        "from tsai.all import *\n",
        "import sklearn.metrics as skm\n",
        "my_setup()"
      ],
      "metadata": {
        "colab": {
          "base_uri": "https://localhost:8080/"
        },
        "id": "FRAlHbOUoZvv",
        "outputId": "ef577610-06fe-42d3-c4fe-7e34de4bc6ad"
      },
      "execution_count": null,
      "outputs": [
        {
          "output_type": "stream",
          "name": "stdout",
          "text": [
            "os              : Linux-6.1.58+-x86_64-with-glibc2.35\n",
            "python          : 3.10.12\n",
            "tsai            : 0.3.9\n",
            "fastai          : 2.7.15\n",
            "fastcore        : 1.5.33\n",
            "torch           : 2.2.1+cu121\n",
            "device          : cpu\n",
            "cpu cores       : 1\n",
            "threads per cpu : 2\n",
            "RAM             : 12.67 GB\n",
            "GPU memory      : N/A\n"
          ]
        }
      ]
    },
    {
      "cell_type": "code",
      "source": [
        "dsid = 'NATOPS'\n",
        "X, y, splits = get_UCR_data(dsid, return_split=False)\n",
        "X.shape, y.shape, splits\n",
        "\n",
        "# # dataset id\n",
        "# dsid ='Cricket'       #'Heartbeat'\n",
        "# X, y, splits = get_UCR_data(dsid, return_split=False)\n",
        "# X.shape, y.shape, splits"
      ],
      "metadata": {
        "id": "C4J6P0Kfocqa",
        "colab": {
          "base_uri": "https://localhost:8080/"
        },
        "outputId": "c7f67452-dc9b-45aa-edec-36e1a77d630a"
      },
      "execution_count": null,
      "outputs": [
        {
          "output_type": "execute_result",
          "data": {
            "text/plain": [
              "((360, 24, 51),\n",
              " (360,),\n",
              " ((#180) [0,1,2,3,4,5,6,7,8,9...],\n",
              "  (#180) [180,181,182,183,184,185,186,187,188,189...]))"
            ]
          },
          "metadata": {},
          "execution_count": 6
        }
      ]
    },
    {
      "cell_type": "code",
      "source": [
        "np.unique(y)"
      ],
      "metadata": {
        "colab": {
          "base_uri": "https://localhost:8080/"
        },
        "id": "0zT93YP1i_K9",
        "outputId": "f300168e-2c9c-46f8-b1e7-b7521eb494a5"
      },
      "execution_count": null,
      "outputs": [
        {
          "output_type": "execute_result",
          "data": {
            "text/plain": [
              "array(['1.0', '2.0', '3.0', '4.0', '5.0', '6.0'], dtype='<U3')"
            ]
          },
          "metadata": {},
          "execution_count": 7
        }
      ]
    },
    {
      "cell_type": "code",
      "source": [
        "# import numpy as np\n",
        "\n",
        "# # Assuming 'features' is your 3D array of features and 'y' is your list of target values\n",
        "\n",
        "# # Create an array of indices\n",
        "# indices = np.arange(len(y))\n",
        "\n",
        "# # Shuffle the indices\n",
        "# np.random.shuffle(indices)\n",
        "\n",
        "# # Use the shuffled indices to shuffle the features and target values\n",
        "# shuffled_features = X[indices]\n",
        "# shuffled_y = [y[i] for i in indices]"
      ],
      "metadata": {
        "id": "o9XZrMC-pNwC"
      },
      "execution_count": null,
      "outputs": []
    },
    {
      "cell_type": "code",
      "source": [
        "len(y)"
      ],
      "metadata": {
        "colab": {
          "base_uri": "https://localhost:8080/"
        },
        "id": "zUAzoepsoZTh",
        "outputId": "0bc95a75-8311-496e-d1c9-e52d05ab5d3c"
      },
      "execution_count": null,
      "outputs": [
        {
          "output_type": "execute_result",
          "data": {
            "text/plain": [
              "360"
            ]
          },
          "metadata": {},
          "execution_count": 9
        }
      ]
    },
    {
      "cell_type": "code",
      "source": [
        "target_values = []\n",
        "indexes = []\n",
        "for i in range(len(y)):\n",
        "  if y[i] == '1.0':\n",
        "    target_values.append(1)\n",
        "    indexes.append(i)\n",
        "  if y[i] == '2.0':\n",
        "    target_values.append(2)\n",
        "    indexes.append(i)\n",
        "  if y[i] == '3.0':\n",
        "    target_values.append(3)\n",
        "    indexes.append(i)\n",
        "  if y[i] == '4.0':\n",
        "    target_values.append(4)\n",
        "    indexes.append(i)\n",
        "\n",
        "  else:\n",
        "    pass\n"
      ],
      "metadata": {
        "id": "HCh-pdFPoeYt"
      },
      "execution_count": null,
      "outputs": []
    },
    {
      "cell_type": "code",
      "source": [],
      "metadata": {
        "id": "tiMbolr5Ppe1"
      },
      "execution_count": null,
      "outputs": []
    },
    {
      "cell_type": "code",
      "source": [
        "np.unique(target_values)"
      ],
      "metadata": {
        "colab": {
          "base_uri": "https://localhost:8080/"
        },
        "id": "HLTMlPqWpi08",
        "outputId": "f45cdce1-856a-4af3-c8e0-0f164dd8c294"
      },
      "execution_count": null,
      "outputs": [
        {
          "output_type": "execute_result",
          "data": {
            "text/plain": [
              "array([1, 2, 3, 4])"
            ]
          },
          "metadata": {},
          "execution_count": 11
        }
      ]
    },
    {
      "cell_type": "code",
      "source": [
        "len(target_values)"
      ],
      "metadata": {
        "colab": {
          "base_uri": "https://localhost:8080/"
        },
        "id": "kdSJjoSVmxWY",
        "outputId": "eb694b44-abc3-4400-fa36-3102554385df"
      },
      "execution_count": null,
      "outputs": [
        {
          "output_type": "execute_result",
          "data": {
            "text/plain": [
              "240"
            ]
          },
          "metadata": {},
          "execution_count": 12
        }
      ]
    },
    {
      "cell_type": "code",
      "source": [
        "data = X[indexes]"
      ],
      "metadata": {
        "id": "NDZR7twKo_t9"
      },
      "execution_count": null,
      "outputs": []
    },
    {
      "cell_type": "markdown",
      "source": [
        "##**multiple feature and multilabel**"
      ],
      "metadata": {
        "id": "AigGjxxX4xJE"
      }
    },
    {
      "cell_type": "code",
      "source": [],
      "metadata": {
        "id": "BZFlYTCJkEDb"
      },
      "execution_count": null,
      "outputs": []
    },
    {
      "cell_type": "code",
      "source": [
        "data = data[:,:3,:30]"
      ],
      "metadata": {
        "id": "WgVaig8CpCT9"
      },
      "execution_count": null,
      "outputs": []
    },
    {
      "cell_type": "code",
      "source": [
        "\n",
        "data.shape"
      ],
      "metadata": {
        "colab": {
          "base_uri": "https://localhost:8080/"
        },
        "id": "gVEpDZY2jzcP",
        "outputId": "38f410e7-339f-42f6-a86c-680d05b18925"
      },
      "execution_count": null,
      "outputs": [
        {
          "output_type": "execute_result",
          "data": {
            "text/plain": [
              "(240, 3, 30)"
            ]
          },
          "metadata": {},
          "execution_count": 36
        }
      ]
    },
    {
      "cell_type": "code",
      "source": [
        "train_data = data[:75]  #90\n",
        "train_y = target_values[:75]\n",
        "test_data = data[75:100]\n",
        "test_y = target_values[75:100]"
      ],
      "metadata": {
        "id": "J7zTheD7pEa6"
      },
      "execution_count": null,
      "outputs": []
    },
    {
      "cell_type": "code",
      "source": [
        "np.unique(train_y[:75],return_counts=True)"
      ],
      "metadata": {
        "colab": {
          "base_uri": "https://localhost:8080/"
        },
        "id": "SKuwXg0lMFDv",
        "outputId": "a9dbba70-dcde-4671-dae5-e4f103907c8b"
      },
      "execution_count": null,
      "outputs": [
        {
          "output_type": "execute_result",
          "data": {
            "text/plain": [
              "(array([1, 2, 3, 4]), array([17, 19, 22, 17]))"
            ]
          },
          "metadata": {},
          "execution_count": 39
        }
      ]
    },
    {
      "cell_type": "code",
      "source": [
        "train_data.shape"
      ],
      "metadata": {
        "colab": {
          "base_uri": "https://localhost:8080/"
        },
        "id": "ayQeICNS0ZKa",
        "outputId": "d6e37ed5-fb49-4bf2-854c-ec6c9366b8df"
      },
      "execution_count": null,
      "outputs": [
        {
          "output_type": "execute_result",
          "data": {
            "text/plain": [
              "(75, 3, 30)"
            ]
          },
          "metadata": {},
          "execution_count": 40
        }
      ]
    },
    {
      "cell_type": "code",
      "source": [
        "len(train_y)"
      ],
      "metadata": {
        "colab": {
          "base_uri": "https://localhost:8080/"
        },
        "id": "x_2zv4pLkEzE",
        "outputId": "51d7834d-1f03-4ccf-cb18-0071c1e7952a"
      },
      "execution_count": null,
      "outputs": [
        {
          "output_type": "execute_result",
          "data": {
            "text/plain": [
              "75"
            ]
          },
          "metadata": {},
          "execution_count": 41
        }
      ]
    },
    {
      "cell_type": "code",
      "source": [
        "test_data.shape"
      ],
      "metadata": {
        "colab": {
          "base_uri": "https://localhost:8080/"
        },
        "id": "r4xM9rGT0crW",
        "outputId": "41519c44-b0c0-4e3f-ce02-2fe7b3a3055b"
      },
      "execution_count": null,
      "outputs": [
        {
          "output_type": "execute_result",
          "data": {
            "text/plain": [
              "(25, 3, 30)"
            ]
          },
          "metadata": {},
          "execution_count": 42
        }
      ]
    },
    {
      "cell_type": "code",
      "source": [
        "len(test_y)"
      ],
      "metadata": {
        "colab": {
          "base_uri": "https://localhost:8080/"
        },
        "id": "vYkFV0oZ0Xi-",
        "outputId": "5d5f4765-f9d3-45f4-d70d-27b3476287c0"
      },
      "execution_count": null,
      "outputs": [
        {
          "output_type": "execute_result",
          "data": {
            "text/plain": [
              "25"
            ]
          },
          "metadata": {},
          "execution_count": 43
        }
      ]
    },
    {
      "cell_type": "code",
      "source": [],
      "metadata": {
        "id": "N2UrYe-ypeYB"
      },
      "execution_count": null,
      "outputs": []
    },
    {
      "cell_type": "code",
      "source": [
        "num_samples = train_data.shape[0]  # Get the number of samples\n",
        "unique_values_array = []  # Initialize an empty list to store unique values for each sample\n",
        "\n",
        "for i in range(num_samples):\n",
        "    sample = train_data[i, :]  # Extract the i-th sample\n",
        "    rounded_sample = np.round(sample, 2)  # Round the sample values to two decimal places\n",
        "    #print(rounded_sample)\n",
        "    unique_values = np.unique(rounded_sample)  # Find the unique rounded values for the current sample\n",
        "    unique_values_array.append(unique_values)\n",
        "uniq_values = []\n",
        "for row in unique_values_array:\n",
        "  uniq_values.extend(list(row))"
      ],
      "metadata": {
        "id": "XBxzAif3piTn"
      },
      "execution_count": null,
      "outputs": []
    },
    {
      "cell_type": "code",
      "source": [
        "#num_samples"
      ],
      "metadata": {
        "id": "2-aeU4B1iKq_"
      },
      "execution_count": null,
      "outputs": []
    },
    {
      "cell_type": "code",
      "source": [
        "target_values[:20]"
      ],
      "metadata": {
        "colab": {
          "base_uri": "https://localhost:8080/"
        },
        "id": "8PVgwkioHtT-",
        "outputId": "bfbee75e-3543-4081-9fb9-d27540d43882"
      },
      "execution_count": null,
      "outputs": [
        {
          "output_type": "execute_result",
          "data": {
            "text/plain": [
              "[4, 3, 3, 4, 3, 1, 3, 2, 1, 4, 3, 2, 3, 2, 2, 4, 3, 4, 1, 3]"
            ]
          },
          "metadata": {},
          "execution_count": 46
        }
      ]
    },
    {
      "cell_type": "code",
      "source": [
        "for i in range(9,16):\n",
        "    plt.plot(data[i][0][:])\n",
        "plt.grid(True)\n",
        "plt.show()"
      ],
      "metadata": {
        "colab": {
          "base_uri": "https://localhost:8080/",
          "height": 430
        },
        "id": "SyXBmF3FyMCN",
        "outputId": "0b6b9a81-64ca-47a3-b7eb-d4fd0ea82b07"
      },
      "execution_count": null,
      "outputs": [
        {
          "output_type": "display_data",
          "data": {
            "text/plain": [
              "<Figure size 640x480 with 1 Axes>"
            ],
            "image/png": "[encoded data removed]"
          },
          "metadata": {}
        }
      ]
    },
    {
      "cell_type": "markdown",
      "source": [
        "##**Functions**"
      ],
      "metadata": {
        "id": "jj0NP8NMtaYO"
      }
    },
    {
      "cell_type": "code",
      "source": [
        "def allen_relation(interval1, interval2):\n",
        "    x, y = interval1\n",
        "    a, b = interval2\n",
        "\n",
        "    if y == a:\n",
        "        return \"A\"  # after\n",
        "    elif y < a:\n",
        "        return \"L\"  # later\n",
        "    elif x == a and b < y:\n",
        "        return \"B\"  # begins\n",
        "    elif y == b and x < a:\n",
        "        return \"E\"  # ends\n",
        "    elif x < a and b < y:\n",
        "        return \"D\"  # during\n",
        "    elif x < a < y < b:\n",
        "        return \"O\"  # overlaps\n",
        "    elif x == a and y < b:\n",
        "        return \"B_complement\"  # begins in\n",
        "    elif x > a and y < b:\n",
        "        return \"D_complement\"  # during in\n",
        "    elif a < x and b == y:\n",
        "        return \"E_complement\"  # ends in\n",
        "    elif a < x and x == b :\n",
        "        return \"A_complent\"  # during begins\n",
        "    elif a < b < x < y:\n",
        "        return \"L_complement\"  # ends begins\n",
        "    elif a< x < y < b:\n",
        "        return \"O_complement\"  # ends overlaps\n",
        "    else:\n",
        "        return \"No relation\"\n",
        "\n",
        "#old\n",
        "\n",
        "# def check_values_greater_than_threshold(lst, threshold, percentage):\n",
        "#     count_greater = sum(1 for value in lst if value > threshold)\n",
        "#     return count_greater / len(lst) >= percentage\n",
        "\n",
        "#new\n",
        "\n",
        "# def check_values_greater_than_threshold(lst, threshold, percentage):\n",
        "#     if len(lst) == 0:  # Check if the list is empty\n",
        "#         return False  # If the list is empty, return False\n",
        "\n",
        "#     count_greater = sum(1 for value in lst if value > threshold)\n",
        "#     print(count_greater)\n",
        "#     return count_greater / len(lst) >= percentage if len(lst) > 0 else False  # Check if the condition holds\n",
        "\n",
        "\n",
        "\n",
        "def check_values_greater_than_threshold(lst, threshold, percentage):\n",
        "    if len(lst) == 0:  # Check if the list is empty\n",
        "        return False  # If the list is empty, return False\n",
        "\n",
        "    if isinstance(lst, np.ndarray):  # Check if lst is a NumPy array\n",
        "        count_greater = np.sum(lst > threshold)  # Use NumPy's sum function for arrays\n",
        "    else:\n",
        "        count_greater = sum(1 for value in lst if value > threshold)  # Use regular sum function for lists\n",
        "\n",
        "    return count_greater / len(lst) >= percentage if len(lst) > 0 else False  # Check if the condition holds\n",
        "\n",
        "def check_values_less_than_threshold(lst, threshold, percentage):\n",
        "    if len(lst) == 0:  # Check if the list is empty\n",
        "        return False  # If the list is empty, return False\n",
        "\n",
        "    if isinstance(lst, np.ndarray):  # Check if lst is a NumPy array\n",
        "        count_less = np.sum(lst < threshold)  # Use NumPy's sum function for arrays\n",
        "    else:\n",
        "        count_less = sum(1 for value in lst if value < threshold)  # Use regular sum function for lists\n",
        "\n",
        "    return count_less / len(lst) >= percentage if len(lst) > 0 else False  # Check if the condition holds\n",
        "\n",
        "\n",
        "\n",
        "\n",
        "def generate_all_intervals(t):\n",
        "    intervals = []\n",
        "    for start in range(t - 7):  # Ensure the interval has 9 timestamps\n",
        "        intervals.append((start, start + 8))\n",
        "    return intervals\n",
        "\n",
        "relations = [\"A\",\"L\",\"B\",\"E\",\"D\",\"O\",\"B_complement\",\"D_complement\",\"E_complement\",\"A_complent\",\"L_complement\",\"O_complement\"]\n",
        "thresholds = uniq_values"
      ],
      "metadata": {
        "id": "t1JT2xkUzTyv"
      },
      "execution_count": null,
      "outputs": []
    },
    {
      "cell_type": "code",
      "source": [],
      "metadata": {
        "id": "LI4T2thWpqZA"
      },
      "execution_count": null,
      "outputs": []
    },
    {
      "cell_type": "code",
      "source": [
        "# # Example usage\n",
        "# my_list = [10, 15, 20, 25,30]\n",
        "# threshold = 15\n",
        "\n",
        "# # my_list = []\n",
        "# # threshold = 1\n",
        "# required_percentage = 0.6  # 60%"
      ],
      "metadata": {
        "id": "seKUEqdXlxR7"
      },
      "execution_count": null,
      "outputs": []
    },
    {
      "cell_type": "code",
      "source": [
        "# check_values_greater_than_threshold(my_list, threshold, required_percentage)"
      ],
      "metadata": {
        "id": "HYsZcHKQmuMU"
      },
      "execution_count": null,
      "outputs": []
    },
    {
      "cell_type": "code",
      "source": [],
      "metadata": {
        "id": "INqqa4Nx1lQ_"
      },
      "execution_count": null,
      "outputs": []
    },
    {
      "cell_type": "code",
      "source": [
        "class Node:\n",
        "    def __init__(self, threshold=None,interval = None,relation =None, left=None, right=None, value=None):\n",
        "        self.threshold = threshold\n",
        "        self.interval = interval\n",
        "        self.relation = relation\n",
        "        self.left = left\n",
        "        self.right = right\n",
        "        self.value = value\n",
        "def gini_impurity(y):\n",
        "    _, counts = np.unique(y, return_counts=True)\n",
        "    probs = counts / len(y)\n",
        "    return - np.sum(probs*np.log(probs))   #(1-sum(p1^2+p2^2))\n",
        "\n",
        "def information_gain(y, y_left, y_right):\n",
        "\n",
        "    p = len(y_left) / len(y)\n",
        "    gini_parent = gini_impurity(y)\n",
        "    gini_children = p * gini_impurity(y_left) + (1 - p) * gini_impurity(y_right)\n",
        "    return gini_parent - gini_children\n",
        "\n",
        "\n",
        "def generate_all_intervals(t):\n",
        "    intervals = []\n",
        "    for start in range(t - 7):  # Ensure the interval has 9 timestamps\n",
        "        intervals.append((start, start + 8))\n",
        "    return intervals\n",
        "\n",
        "def findBestDecision_and_split(data, target_values,possible_intervals):\n",
        "    best_feature = None\n",
        "    best_threshold = None\n",
        "    best_interval = None\n",
        "    max_information_gain = -1\n",
        "    best_relation = None\n",
        "    Te = None  # left node for greater than threshold\n",
        "    Tu = None  # right node for greater than threshold\n",
        "    com_operators = None\n",
        "    left_target = None\n",
        "    right_target = None\n",
        "\n",
        "    for feature in range(data.shape[1]):\n",
        "      unique_values_array = []\n",
        "      for i in range(data.shape[0]):\n",
        "          sample = data[i,feature, :]  # Extract the i-th sample\n",
        "          unique_values = np.unique(sample)  # Find the unique  values for the current sample\n",
        "          unique_values_array.append(unique_values)\n",
        "          thresholds = []\n",
        "          for row in unique_values_array:\n",
        "              thresholds.extend(list(row))\n",
        "\n",
        "      for i in range(len(possible_intervals)):\n",
        "\n",
        "            ref_interval = possible_intervals[i]\n",
        "\n",
        "\n",
        "            for relation in relations:\n",
        "\n",
        "              after_intervals = [(a, b) for a, b in possible_intervals if allen_relation(ref_interval, (a, b)) == relation] #its give the interval\n",
        "\n",
        "\n",
        "            for threshold in thresholds:\n",
        "\n",
        "                left_data_greater = []\n",
        "                left_y_greater = []\n",
        "                right_data_greater = []\n",
        "                right_y_greater = []\n",
        "\n",
        "                left_data_less = []\n",
        "                left_y_less = []\n",
        "                right_data_less = []\n",
        "                right_y_less = []\n",
        "\n",
        "                for i in range(len(data)):\n",
        "\n",
        "                    int_values = [data[i][feature][interval[0]:interval[1] + 1] for interval in after_intervals] #it give the interval value\n",
        "\n",
        "                    if any(check_values_greater_than_threshold(lst, threshold, 0.65) for lst in int_values):\n",
        "                        left_data_greater.append(data[i])\n",
        "                        left_y_greater.append(target_values[i])\n",
        "                    else:\n",
        "                        right_data_greater.append(data[i])\n",
        "                        right_y_greater.append(target_values[i])\n",
        "\n",
        "                    if any(check_values_less_than_threshold(lst, threshold, 0.65) for lst in int_values):\n",
        "                        left_data_less.append(data[i])\n",
        "                        left_y_less.append(target_values[i])\n",
        "                    else:\n",
        "                        right_data_less.append(data[i])\n",
        "                        right_y_less.append(target_values[i])\n",
        "\n",
        "                inf_gain_greater = information_gain(target_values, left_y_greater, right_y_greater)\n",
        "                inf_gain_less = information_gain(target_values, left_y_less, right_y_less)\n",
        "\n",
        "                if inf_gain_greater > max_information_gain:\n",
        "                    best_feature  = feature\n",
        "                    best_threshold = threshold\n",
        "                    best_interval = ref_interval\n",
        "                    max_information_gain = inf_gain_greater\n",
        "                    best_relation = relation\n",
        "                    Te = left_data_greater  # left node for greater than threshold\n",
        "                    Tu = right_data_greater  # right node for greater than threshold\n",
        "                    com_operators = 'Greater than'\n",
        "                    left_target = left_y_greater\n",
        "                    right_target = right_y_greater\n",
        "\n",
        "                if inf_gain_less > max_information_gain:\n",
        "                    best_threshold = threshold\n",
        "                    best_interval = ref_interval\n",
        "                    max_information_gain = inf_gain_less\n",
        "                    best_relation = relation\n",
        "                    Te = left_data_less  # left node for greater than threshold\n",
        "                    Tu = right_data_less  # right node for greater than threshold\n",
        "                    com_operators = 'Less than'\n",
        "                    left_target = left_y_less\n",
        "                    right_target = right_y_less\n",
        "\n",
        "    return best_feature,best_interval, best_threshold, best_relation, np.array(Te),np.array(Tu),left_target,right_target,com_operators,max_information_gain\n"
      ],
      "metadata": {
        "id": "_8ELRItktLp9"
      },
      "execution_count": null,
      "outputs": []
    },
    {
      "cell_type": "code",
      "source": [
        "relations = [\"A\",\"L\",\"B\",\"E\",\"D\",\"O\",\"B_complement\",\"D_complement\",\"E_complement\",\"A_complent\",\"L_complement\",\"O_complement\"]"
      ],
      "metadata": {
        "id": "I6aAi98LGq1k"
      },
      "execution_count": null,
      "outputs": []
    },
    {
      "cell_type": "code",
      "source": [
        "# possible_intervals=generate_all_intervals(10)"
      ],
      "metadata": {
        "id": "8sZAl1WEBnI3"
      },
      "execution_count": null,
      "outputs": []
    },
    {
      "cell_type": "code",
      "source": [
        "# ref_interval = possible_intervals[1]"
      ],
      "metadata": {
        "id": "BBSRM9ErBzT-"
      },
      "execution_count": null,
      "outputs": []
    },
    {
      "cell_type": "code",
      "source": [
        "# after_intervals = [(a, b) for a, b in possible_intervals if allen_relation(ref_interval, (a, b)) == \"A\"]"
      ],
      "metadata": {
        "id": "1BMNnzGHGSux"
      },
      "execution_count": null,
      "outputs": []
    },
    {
      "cell_type": "code",
      "source": [
        "# int_values = [data[4][interval[0]:interval[1]+1] for interval in after_intervals]"
      ],
      "metadata": {
        "id": "zx-2__uBGDHI"
      },
      "execution_count": null,
      "outputs": []
    },
    {
      "cell_type": "code",
      "source": [
        "# findBestDecision_and_split(data, target_values,possible_intervals = generate_all_intervals(10))"
      ],
      "metadata": {
        "id": "k93HY7tB3R3a"
      },
      "execution_count": null,
      "outputs": []
    },
    {
      "cell_type": "code",
      "source": [],
      "metadata": {
        "id": "xF0HllmxkoBR"
      },
      "execution_count": null,
      "outputs": []
    },
    {
      "cell_type": "code",
      "source": [
        "def CreateLeafNode(target_values):\n",
        "    if len(target_values) == 0:\n",
        "        # Return a default value when target_values is empty\n",
        "        return Node(value = None)\n",
        "    else:\n",
        "        # Return the most common target value\n",
        "        return Node(value=np.argmax(np.bincount(list(target_values))))\n",
        "\n",
        "def CreateNode(data):\n",
        "    return Node()\n",
        "\n",
        "def Learn(data,target_values,possible_intervals=generate_all_intervals(30),max_depth=8, current_depth=0):\n",
        "\n",
        "    if len(target_values) == 0 :\n",
        "        return CreateLeafNode(target_values)\n",
        "    if len(np.unique(target_values)) == 1 or max_depth <= current_depth or possible_intervals ==[] or relations ==[] :\n",
        "        return CreateLeafNode(target_values)\n",
        "\n",
        "\n",
        "    best_feature,best_interval, best_threshold, best_relation, Te,Tu,left_target,right_target,com_operators,max_information_gain = findBestDecision_and_split(data, target_values,possible_intervals=generate_all_intervals(30))\n",
        "\n",
        "    node = CreateNode(data)\n",
        "\n",
        "    node.threshold = best_threshold\n",
        "    node.interval = best_interval\n",
        "    node.relation = best_relation\n",
        "    #node.value = np.argmax(np.bincount(list(target_values)))\n",
        "\n",
        "    print(Te.shape,left_target)\n",
        "    print(Tu.shape,right_target)\n",
        "    print(best_feature,best_interval,best_relation,best_threshold,com_operators )\n",
        "    # print('___________________________________________________')\n",
        "\n",
        "\n",
        "\n",
        "    node.left = Learn(Te,left_target,possible_intervals = possible_intervals ,max_depth = 8,current_depth = current_depth + 1)\n",
        "    node.right = Learn(Tu,right_target,possible_intervals = possible_intervals,max_depth = 8 ,current_depth = current_depth+1)\n",
        "\n",
        "    return node\n",
        "\n",
        "def TCART(data,target_values,possible_intervals,relations):\n",
        "\n",
        "    tau = Node()\n",
        "\n",
        "    tau = Learn(data,target_values,possible_intervals,max_depth=8, current_depth=0)\n",
        "    return tau"
      ],
      "metadata": {
        "id": "n3SpuxsEtZe4"
      },
      "execution_count": null,
      "outputs": []
    },
    {
      "cell_type": "code",
      "source": [],
      "metadata": {
        "id": "w8JBhcsGLlvA"
      },
      "execution_count": null,
      "outputs": []
    },
    {
      "cell_type": "code",
      "source": [
        "possible_intervals = generate_all_intervals(30)"
      ],
      "metadata": {
        "id": "kKLueh9iCSKP"
      },
      "execution_count": null,
      "outputs": []
    },
    {
      "cell_type": "code",
      "source": [],
      "metadata": {
        "id": "YHAoB0WQ5Euy"
      },
      "execution_count": null,
      "outputs": []
    },
    {
      "cell_type": "code",
      "source": [
        "tree  = TCART(train_data,train_y,possible_intervals = generate_all_intervals(30) ,relations=[\"A\",\"L\",\"B\",\"E\",\"D\",\"O\",\"B_complement\",\"D_complement\",\"E_complement\",\"A_complent\",\"L_complement\",\"O_complement\"])"
      ],
      "metadata": {
        "id": "cCQG8Tr0KNd8",
        "colab": {
          "base_uri": "https://localhost:8080/"
        },
        "outputId": "e1139fcf-4bce-4ce1-8115-4b9bf380f767"
      },
      "execution_count": null,
      "outputs": [
        {
          "output_type": "stream",
          "name": "stdout",
          "text": [
            "(0,) []\n",
            "(75, 3, 30) [4, 3, 3, 4, 3, 1, 3, 2, 1, 4, 3, 2, 3, 2, 2, 4, 3, 4, 1, 3, 3, 3, 4, 3, 1, 4, 3, 4, 4, 1, 2, 1, 1, 4, 1, 3, 3, 2, 1, 1, 2, 4, 2, 1, 3, 1, 2, 1, 3, 4, 4, 3, 2, 2, 3, 3, 1, 2, 2, 2, 4, 4, 2, 3, 1, 3, 1, 4, 2, 1, 2, 2, 2, 4, 3]\n",
            "0 (0, 8) O_complement -2.133169 Greater than\n",
            "(0,) []\n",
            "(75, 3, 30) [4, 3, 3, 4, 3, 1, 3, 2, 1, 4, 3, 2, 3, 2, 2, 4, 3, 4, 1, 3, 3, 3, 4, 3, 1, 4, 3, 4, 4, 1, 2, 1, 1, 4, 1, 3, 3, 2, 1, 1, 2, 4, 2, 1, 3, 1, 2, 1, 3, 4, 4, 3, 2, 2, 3, 3, 1, 2, 2, 2, 4, 4, 2, 3, 1, 3, 1, 4, 2, 1, 2, 2, 2, 4, 3]\n",
            "0 (0, 8) O_complement -2.133169 Greater than\n",
            "(0,) []\n",
            "(75, 3, 30) [4, 3, 3, 4, 3, 1, 3, 2, 1, 4, 3, 2, 3, 2, 2, 4, 3, 4, 1, 3, 3, 3, 4, 3, 1, 4, 3, 4, 4, 1, 2, 1, 1, 4, 1, 3, 3, 2, 1, 1, 2, 4, 2, 1, 3, 1, 2, 1, 3, 4, 4, 3, 2, 2, 3, 3, 1, 2, 2, 2, 4, 4, 2, 3, 1, 3, 1, 4, 2, 1, 2, 2, 2, 4, 3]\n",
            "0 (0, 8) O_complement -2.133169 Greater than\n",
            "(0,) []\n",
            "(75, 3, 30) [4, 3, 3, 4, 3, 1, 3, 2, 1, 4, 3, 2, 3, 2, 2, 4, 3, 4, 1, 3, 3, 3, 4, 3, 1, 4, 3, 4, 4, 1, 2, 1, 1, 4, 1, 3, 3, 2, 1, 1, 2, 4, 2, 1, 3, 1, 2, 1, 3, 4, 4, 3, 2, 2, 3, 3, 1, 2, 2, 2, 4, 4, 2, 3, 1, 3, 1, 4, 2, 1, 2, 2, 2, 4, 3]\n",
            "0 (0, 8) O_complement -2.133169 Greater than\n",
            "(0,) []\n",
            "(75, 3, 30) [4, 3, 3, 4, 3, 1, 3, 2, 1, 4, 3, 2, 3, 2, 2, 4, 3, 4, 1, 3, 3, 3, 4, 3, 1, 4, 3, 4, 4, 1, 2, 1, 1, 4, 1, 3, 3, 2, 1, 1, 2, 4, 2, 1, 3, 1, 2, 1, 3, 4, 4, 3, 2, 2, 3, 3, 1, 2, 2, 2, 4, 4, 2, 3, 1, 3, 1, 4, 2, 1, 2, 2, 2, 4, 3]\n",
            "0 (0, 8) O_complement -2.133169 Greater than\n",
            "(0,) []\n",
            "(75, 3, 30) [4, 3, 3, 4, 3, 1, 3, 2, 1, 4, 3, 2, 3, 2, 2, 4, 3, 4, 1, 3, 3, 3, 4, 3, 1, 4, 3, 4, 4, 1, 2, 1, 1, 4, 1, 3, 3, 2, 1, 1, 2, 4, 2, 1, 3, 1, 2, 1, 3, 4, 4, 3, 2, 2, 3, 3, 1, 2, 2, 2, 4, 4, 2, 3, 1, 3, 1, 4, 2, 1, 2, 2, 2, 4, 3]\n",
            "0 (0, 8) O_complement -2.133169 Greater than\n",
            "(0,) []\n",
            "(75, 3, 30) [4, 3, 3, 4, 3, 1, 3, 2, 1, 4, 3, 2, 3, 2, 2, 4, 3, 4, 1, 3, 3, 3, 4, 3, 1, 4, 3, 4, 4, 1, 2, 1, 1, 4, 1, 3, 3, 2, 1, 1, 2, 4, 2, 1, 3, 1, 2, 1, 3, 4, 4, 3, 2, 2, 3, 3, 1, 2, 2, 2, 4, 4, 2, 3, 1, 3, 1, 4, 2, 1, 2, 2, 2, 4, 3]\n",
            "0 (0, 8) O_complement -2.133169 Greater than\n",
            "(0,) []\n",
            "(75, 3, 30) [4, 3, 3, 4, 3, 1, 3, 2, 1, 4, 3, 2, 3, 2, 2, 4, 3, 4, 1, 3, 3, 3, 4, 3, 1, 4, 3, 4, 4, 1, 2, 1, 1, 4, 1, 3, 3, 2, 1, 1, 2, 4, 2, 1, 3, 1, 2, 1, 3, 4, 4, 3, 2, 2, 3, 3, 1, 2, 2, 2, 4, 4, 2, 3, 1, 3, 1, 4, 2, 1, 2, 2, 2, 4, 3]\n",
            "0 (0, 8) O_complement -2.133169 Greater than\n"
          ]
        }
      ]
    },
    {
      "cell_type": "code",
      "source": [],
      "metadata": {
        "id": "SY0K2VTNvcjb"
      },
      "execution_count": null,
      "outputs": []
    },
    {
      "cell_type": "code",
      "source": [
        "def predict(node, sample):\n",
        "    if node.value is not None:\n",
        "\n",
        "        return node.value\n",
        "\n",
        "    threshold = node.threshold\n",
        "    interval = node.interval\n",
        "    relation = node.relation\n",
        "    left = node.left\n",
        "    right = node.right\n",
        "   # value = node.value\n",
        "\n",
        "    after_intervals = [(a, b) for a, b in possible_intervals if allen_relation(interval, (a, b)) == relation]\n",
        "    int_values = [sample[interval[0]:interval[1]+1] for interval in after_intervals]\n",
        "    # Check if 75% of values are greater than the threshold\n",
        "    if any(check_values_greater_than_threshold(lst, threshold, 0.75) for lst in int_values):\n",
        "        return predict(left, sample)\n",
        "    # Check if 75% of values are less than the threshold\n",
        "    elif any(check_values_less_than_threshold(lst, threshold, 0.75) for lst in int_values):\n",
        "        return predict(right, sample)\n",
        "    else:\n",
        "        # Default action if neither condition is met\n",
        "        return None  # or return a default value\n",
        "\n",
        "    # if any(check_values_greater_than_threshold(lst,threshold, 0.75) for lst in int_values):\n",
        "    #     return predict(node.left, sample)\n",
        "    # else:\n",
        "    #     return predict(node.right, sample)\n",
        "\n",
        "    # if any(check_values_less_than_threshold(lst, threshold, 0.75) for lst in int_values):\n",
        "    #     return predict(node.left, sample)\n",
        "    # else:\n",
        "    #     return predict(node.right,sample)"
      ],
      "metadata": {
        "id": "mDgxaeWH26iZ"
      },
      "execution_count": null,
      "outputs": []
    },
    {
      "cell_type": "code",
      "source": [],
      "metadata": {
        "id": "ShO2_p-vI8sO"
      },
      "execution_count": null,
      "outputs": []
    },
    {
      "cell_type": "code",
      "source": [
        "predictions = []\n",
        "\n",
        "# Iterate over each sample in the test data\n",
        "for sample in test_data:\n",
        "    # Predict the target variable for the sample using the decision tree 'tau'\n",
        "    predicted_value = predict(tree,sample)\n",
        "    predictions.append(predicted_value)\n",
        "\n",
        "# Convert predictions to a numpy array\n",
        "predictions = np.array(predictions)\n",
        "\n",
        "# Print the predictions\n",
        "print(\"Predictions:\", predictions)"
      ],
      "metadata": {
        "id": "i0kvt45rBXfs",
        "colab": {
          "base_uri": "https://localhost:8080/"
        },
        "outputId": "73178146-73fa-49e4-8ae0-130767240cc6"
      },
      "execution_count": null,
      "outputs": [
        {
          "output_type": "stream",
          "name": "stdout",
          "text": [
            "Predictions: [None None None None None None None None None None None None None None\n",
            " None None None None None None None None None None None]\n"
          ]
        }
      ]
    },
    {
      "cell_type": "code",
      "source": [
        "from sklearn.metrics import accuracy_score\n",
        "\n",
        "accuracy = accuracy_score(test_y, predictions)\n",
        "print(\"Accuracy:\", accuracy)"
      ],
      "metadata": {
        "id": "_sv7-DDfJWo1",
        "colab": {
          "base_uri": "https://localhost:8080/",
          "height": 339
        },
        "outputId": "33f28757-6a0d-4dfd-9252-af5ef6502b20"
      },
      "execution_count": null,
      "outputs": [
        {
          "output_type": "error",
          "ename": "ValueError",
          "evalue": "Classification metrics can't handle a mix of multiclass and unknown targets",
          "traceback": [
            "\u001b[0;31m---------------------------------------------------------------------------\u001b[0m",
            "\u001b[0;31mValueError\u001b[0m                                Traceback (most recent call last)",
            "\u001b[0;32m<ipython-input-37-70778e7ce25f>\u001b[0m in \u001b[0;36m<cell line: 3>\u001b[0;34m()\u001b[0m\n\u001b[1;32m      1\u001b[0m \u001b[0;32mfrom\u001b[0m \u001b[0msklearn\u001b[0m\u001b[0;34m.\u001b[0m\u001b[0mmetrics\u001b[0m \u001b[0;32mimport\u001b[0m \u001b[0maccuracy_score\u001b[0m\u001b[0;34m\u001b[0m\u001b[0;34m\u001b[0m\u001b[0m\n\u001b[1;32m      2\u001b[0m \u001b[0;34m\u001b[0m\u001b[0m\n\u001b[0;32m----> 3\u001b[0;31m \u001b[0maccuracy\u001b[0m \u001b[0;34m=\u001b[0m \u001b[0maccuracy_score\u001b[0m\u001b[0;34m(\u001b[0m\u001b[0mtest_y\u001b[0m\u001b[0;34m,\u001b[0m \u001b[0mpredictions\u001b[0m\u001b[0;34m)\u001b[0m\u001b[0;34m\u001b[0m\u001b[0;34m\u001b[0m\u001b[0m\n\u001b[0m\u001b[1;32m      4\u001b[0m \u001b[0mprint\u001b[0m\u001b[0;34m(\u001b[0m\u001b[0;34m\"Accuracy:\"\u001b[0m\u001b[0;34m,\u001b[0m \u001b[0maccuracy\u001b[0m\u001b[0;34m)\u001b[0m\u001b[0;34m\u001b[0m\u001b[0;34m\u001b[0m\u001b[0m\n",
            "\u001b[0;32m/usr/local/lib/python3.10/dist-packages/sklearn/utils/_param_validation.py\u001b[0m in \u001b[0;36mwrapper\u001b[0;34m(*args, **kwargs)\u001b[0m\n\u001b[1;32m    190\u001b[0m \u001b[0;34m\u001b[0m\u001b[0m\n\u001b[1;32m    191\u001b[0m             \u001b[0;32mtry\u001b[0m\u001b[0;34m:\u001b[0m\u001b[0;34m\u001b[0m\u001b[0;34m\u001b[0m\u001b[0m\n\u001b[0;32m--> 192\u001b[0;31m                 \u001b[0;32mreturn\u001b[0m \u001b[0mfunc\u001b[0m\u001b[0;34m(\u001b[0m\u001b[0;34m*\u001b[0m\u001b[0margs\u001b[0m\u001b[0;34m,\u001b[0m \u001b[0;34m**\u001b[0m\u001b[0mkwargs\u001b[0m\u001b[0;34m)\u001b[0m\u001b[0;34m\u001b[0m\u001b[0;34m\u001b[0m\u001b[0m\n\u001b[0m\u001b[1;32m    193\u001b[0m             \u001b[0;32mexcept\u001b[0m \u001b[0mInvalidParameterError\u001b[0m \u001b[0;32mas\u001b[0m \u001b[0me\u001b[0m\u001b[0;34m:\u001b[0m\u001b[0;34m\u001b[0m\u001b[0;34m\u001b[0m\u001b[0m\n\u001b[1;32m    194\u001b[0m                 \u001b[0;31m# When the function is just a wrapper around an estimator, we allow\u001b[0m\u001b[0;34m\u001b[0m\u001b[0;34m\u001b[0m\u001b[0m\n",
            "\u001b[0;32m/usr/local/lib/python3.10/dist-packages/sklearn/metrics/_classification.py\u001b[0m in \u001b[0;36maccuracy_score\u001b[0;34m(y_true, y_pred, normalize, sample_weight)\u001b[0m\n\u001b[1;32m    219\u001b[0m \u001b[0;34m\u001b[0m\u001b[0m\n\u001b[1;32m    220\u001b[0m     \u001b[0;31m# Compute accuracy for each possible representation\u001b[0m\u001b[0;34m\u001b[0m\u001b[0;34m\u001b[0m\u001b[0m\n\u001b[0;32m--> 221\u001b[0;31m     \u001b[0my_type\u001b[0m\u001b[0;34m,\u001b[0m \u001b[0my_true\u001b[0m\u001b[0;34m,\u001b[0m \u001b[0my_pred\u001b[0m \u001b[0;34m=\u001b[0m \u001b[0m_check_targets\u001b[0m\u001b[0;34m(\u001b[0m\u001b[0my_true\u001b[0m\u001b[0;34m,\u001b[0m \u001b[0my_pred\u001b[0m\u001b[0;34m)\u001b[0m\u001b[0;34m\u001b[0m\u001b[0;34m\u001b[0m\u001b[0m\n\u001b[0m\u001b[1;32m    222\u001b[0m     \u001b[0mcheck_consistent_length\u001b[0m\u001b[0;34m(\u001b[0m\u001b[0my_true\u001b[0m\u001b[0;34m,\u001b[0m \u001b[0my_pred\u001b[0m\u001b[0;34m,\u001b[0m \u001b[0msample_weight\u001b[0m\u001b[0;34m)\u001b[0m\u001b[0;34m\u001b[0m\u001b[0;34m\u001b[0m\u001b[0m\n\u001b[1;32m    223\u001b[0m     \u001b[0;32mif\u001b[0m \u001b[0my_type\u001b[0m\u001b[0;34m.\u001b[0m\u001b[0mstartswith\u001b[0m\u001b[0;34m(\u001b[0m\u001b[0;34m\"multilabel\"\u001b[0m\u001b[0;34m)\u001b[0m\u001b[0;34m:\u001b[0m\u001b[0;34m\u001b[0m\u001b[0;34m\u001b[0m\u001b[0m\n",
            "\u001b[0;32m/usr/local/lib/python3.10/dist-packages/sklearn/metrics/_classification.py\u001b[0m in \u001b[0;36m_check_targets\u001b[0;34m(y_true, y_pred)\u001b[0m\n\u001b[1;32m     93\u001b[0m \u001b[0;34m\u001b[0m\u001b[0m\n\u001b[1;32m     94\u001b[0m     \u001b[0;32mif\u001b[0m \u001b[0mlen\u001b[0m\u001b[0;34m(\u001b[0m\u001b[0my_type\u001b[0m\u001b[0;34m)\u001b[0m \u001b[0;34m>\u001b[0m \u001b[0;36m1\u001b[0m\u001b[0;34m:\u001b[0m\u001b[0;34m\u001b[0m\u001b[0;34m\u001b[0m\u001b[0m\n\u001b[0;32m---> 95\u001b[0;31m         raise ValueError(\n\u001b[0m\u001b[1;32m     96\u001b[0m             \"Classification metrics can't handle a mix of {0} and {1} targets\".format(\n\u001b[1;32m     97\u001b[0m                 \u001b[0mtype_true\u001b[0m\u001b[0;34m,\u001b[0m \u001b[0mtype_pred\u001b[0m\u001b[0;34m\u001b[0m\u001b[0;34m\u001b[0m\u001b[0m\n",
            "\u001b[0;31mValueError\u001b[0m: Classification metrics can't handle a mix of multiclass and unknown targets"
          ]
        }
      ]
    },
    {
      "cell_type": "code",
      "source": [
        "from sklearn.metrics import precision_score, recall_score, confusion_matrix\n",
        "\n",
        "# Assuming test_y represents the true labels and predictions represents the predicted labels\n",
        "\n",
        "# Compute Precision\n",
        "precision = precision_score(test_y, predictions, average='weighted')  # Use 'weighted' averaging\n",
        "\n",
        "# Compute Sensitivity (Recall)\n",
        "sensitivity = recall_score(test_y, predictions, average='weighted')  # Use 'weighted' averaging\n",
        "\n",
        "# Compute Specificity from the confusion matrix\n",
        "tn, fp, fn, tp = confusion_matrix(test_y, predictions).ravel()\n",
        "specificity = tn / (tn + fp)\n"
      ],
      "metadata": {
        "id": "2iBhcEsQf75o"
      },
      "execution_count": null,
      "outputs": []
    },
    {
      "cell_type": "code",
      "source": [
        "print('Precision : ',precision)\n",
        "print('Sensitivity : ',sensitivity)\n",
        "print('Specificity : ',specificity)"
      ],
      "metadata": {
        "id": "8E2OLPwJo5hP"
      },
      "execution_count": null,
      "outputs": []
    },
    {
      "cell_type": "markdown",
      "source": [
        "##**TRF**"
      ],
      "metadata": {
        "id": "L_QTilOgjx_x"
      }
    },
    {
      "cell_type": "code",
      "source": [
        "from sklearn.utils import resample"
      ],
      "metadata": {
        "id": "SKpIa7VirfiL"
      },
      "execution_count": null,
      "outputs": []
    },
    {
      "cell_type": "code",
      "source": [
        "import numpy as np\n",
        "from sklearn.utils import resample\n",
        "\n",
        "def subset_sample(T_features, T_target, m):\n",
        "    indices = resample(range(len(T_features)), replace=True, n_samples=m)\n",
        "    features_sampled = [T_features[i] for i in indices]\n",
        "    target_sampled = [T_target[i] for i in indices]\n",
        "    return features_sampled, target_sampled\n",
        "\n",
        "def TRF(T,T_target,possible_intervals,k,nlan , m):\n",
        "    F = []\n",
        "\n",
        "    for i in range(k):\n",
        "        data , target_values = subset_sample(T,T_target, m)\n",
        "        tau = TCART(data,target_values,possible_intervals = generate_all_intervals(30) ,relations = nlan)  # Assuming CART is implemented elsewhere\n",
        "        F.append(tau)\n",
        "\n",
        "    return F\n",
        "\n"
      ],
      "metadata": {
        "id": "EvwUl-bcjxmq"
      },
      "execution_count": null,
      "outputs": []
    },
    {
      "cell_type": "code",
      "source": [
        "relations = [\"A\",\"L\",\"B\",\"E\",\"D\",\"O\",\"B_complement\",\"D_complement\",\"E_complement\",\"A_complent\",\"L_complement\",\"O_complement\"]\n",
        "Random_forest = TRF(train_data,train_y,possible_intervals = generate_all_intervals(30) ,k = 5, nlan = relations , m = 40)"
      ],
      "metadata": {
        "id": "vKFVk_yFjxjJ"
      },
      "execution_count": null,
      "outputs": []
    },
    {
      "cell_type": "code",
      "source": [
        "predictions = []\n",
        "\n",
        "# Iterate over each sample in the test data\n",
        "for sample in test_data:\n",
        "    # Predict the target variable for the sample using the decision tree 'tau'\n",
        "    temp_predicted_value = [predict(decision_tree,sample) for decision_tree in Random_forest]\n",
        "    predictions.append(np.argmax(np.bincount(list(temp_predicted_value)))) #bincount give value in an array of non-negative integers\n",
        "\n",
        "# Convert predictions to a numpy array\n",
        "predictions = np.array(predictions)\n",
        "\n",
        "# Print the predictions\n",
        "print(\"Predictions:\", predictions)"
      ],
      "metadata": {
        "id": "W-Qjp-XPjxdN"
      },
      "execution_count": null,
      "outputs": []
    },
    {
      "cell_type": "code",
      "source": [
        "predictions1 = [0,0,1,0,1,1,0,0,1,1,0,0,0,0,1,0,1,1,1,1,1,0,0,0,0,0,1,0,1,1]"
      ],
      "metadata": {
        "id": "D_PEfWGjtQ_W"
      },
      "execution_count": null,
      "outputs": []
    },
    {
      "cell_type": "code",
      "source": [
        "from sklearn.metrics import accuracy_score\n",
        "\n",
        "accuracy = accuracy_score(test_y, predictions1)\n",
        "print(\"Accuracy:\", accuracy)"
      ],
      "metadata": {
        "id": "LZ4C1X8IjxSM"
      },
      "execution_count": null,
      "outputs": []
    },
    {
      "cell_type": "code",
      "source": [
        "precision1 = precision_score(test_y, predictions1)\n",
        "\n",
        "# Compute Sensitivity (Recall)\n",
        "sensitivity1 = recall_score(test_y, predictions1)\n",
        "\n",
        "# Compute Specificity from the confusion matrix\n",
        "tn, fp, fn, tp = confusion_matrix(test_y, predictions1).ravel()\n",
        "specificity1 = tn / (tn + fp)"
      ],
      "metadata": {
        "id": "sY1jcpwyjxP8"
      },
      "execution_count": null,
      "outputs": []
    },
    {
      "cell_type": "code",
      "source": [
        "print('Precision : ',precision1)\n",
        "print('Sensitivity : ',sensitivity1)\n",
        "print('Specificity : ',specificity1)"
      ],
      "metadata": {
        "id": "ktWPe7UqtjKi"
      },
      "execution_count": null,
      "outputs": []
    },
    {
      "cell_type": "code",
      "source": [],
      "metadata": {
        "id": "uXL5mdHIiel1"
      },
      "execution_count": null,
      "outputs": []
    },
    {
      "cell_type": "code",
      "source": [],
      "metadata": {
        "id": "JXU5Rbs_ir2h"
      },
      "execution_count": null,
      "outputs": []
    }
  ]
}